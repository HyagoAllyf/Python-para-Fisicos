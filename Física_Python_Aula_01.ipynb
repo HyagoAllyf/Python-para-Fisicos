{
  "nbformat": 4,
  "nbformat_minor": 0,
  "metadata": {
    "colab": {
      "provenance": [],
      "authorship_tag": "ABX9TyOrVxepF/OKCHNyPteAyKJq",
      "include_colab_link": true
    },
    "kernelspec": {
      "name": "python3",
      "display_name": "Python 3"
    },
    "language_info": {
      "name": "python"
    }
  },
  "cells": [
    {
      "cell_type": "markdown",
      "metadata": {
        "id": "view-in-github",
        "colab_type": "text"
      },
      "source": [
        "<a href=\"https://colab.research.google.com/github/HyagoAllyf/Python-para-Fisicos/blob/main/F%C3%ADsica_Python_Aula_01.ipynb\" target=\"_parent\"><img src=\"https://colab.research.google.com/assets/colab-badge.svg\" alt=\"Open In Colab\"/></a>"
      ]
    },
    {
      "cell_type": "markdown",
      "source": [
        "# A versão em uso de Python"
      ],
      "metadata": {
        "id": "huvxkI-UUFvk"
      }
    },
    {
      "cell_type": "code",
      "execution_count": 1,
      "metadata": {
        "colab": {
          "base_uri": "https://localhost:8080/"
        },
        "id": "e7R0L_JvT_6O",
        "outputId": "8e85b86f-13f1-4d0d-fa60-f1be1d0c53cf"
      },
      "outputs": [
        {
          "output_type": "stream",
          "name": "stdout",
          "text": [
            "Python 3.10.12\n"
          ]
        }
      ],
      "source": [
        "!python --version"
      ]
    },
    {
      "cell_type": "markdown",
      "source": [
        "# Tipos de Dados"
      ],
      "metadata": {
        "id": "mBp3vf51UYiN"
      }
    },
    {
      "cell_type": "markdown",
      "source": [
        "##Númerico"
      ],
      "metadata": {
        "id": "Qqdyom0KUpyn"
      }
    },
    {
      "cell_type": "markdown",
      "source": [
        "###inteira: int"
      ],
      "metadata": {
        "id": "aUm7F6qVUw6t"
      }
    },
    {
      "cell_type": "code",
      "source": [
        "x = 10\n",
        "print(\"x =\", x) # maneira antiga\n",
        "print(type(x))"
      ],
      "metadata": {
        "colab": {
          "base_uri": "https://localhost:8080/"
        },
        "id": "1kkYj4oAUcK6",
        "outputId": "57789fb9-2b29-4b61-8b0a-81649cab7f46"
      },
      "execution_count": 2,
      "outputs": [
        {
          "output_type": "stream",
          "name": "stdout",
          "text": [
            "x = 10\n",
            "<class 'int'>\n"
          ]
        }
      ]
    },
    {
      "cell_type": "code",
      "source": [
        "y = int(20)\n",
        "print(y)\n",
        "print(type(y))"
      ],
      "metadata": {
        "colab": {
          "base_uri": "https://localhost:8080/"
        },
        "id": "_1a6w2HdXB55",
        "outputId": "56c265a0-44ae-46e1-a82b-231b8861efb2"
      },
      "execution_count": 3,
      "outputs": [
        {
          "output_type": "stream",
          "name": "stdout",
          "text": [
            "20\n",
            "<class 'int'>\n"
          ]
        }
      ]
    },
    {
      "cell_type": "markdown",
      "source": [
        "### Decimal: float"
      ],
      "metadata": {
        "id": "81FYYpq7Xk5X"
      }
    },
    {
      "cell_type": "code",
      "source": [
        "# Exemplo:\n",
        "# m é a massa da partícula\n",
        "m = 80.30 # [m] = kg\n",
        "print(m)\n",
        "print(type(m))"
      ],
      "metadata": {
        "colab": {
          "base_uri": "https://localhost:8080/"
        },
        "id": "C7uO14YUXsnV",
        "outputId": "4a9ad77c-1633-4bba-913a-1ccd924f41fe"
      },
      "execution_count": 4,
      "outputs": [
        {
          "output_type": "stream",
          "name": "stdout",
          "text": [
            "80.3\n",
            "<class 'float'>\n"
          ]
        }
      ]
    },
    {
      "cell_type": "code",
      "source": [
        "#  massa da terra _ notação científica\n",
        "massa_t = 5.972e12"
      ],
      "metadata": {
        "id": "MHUziRbxc_3b"
      },
      "execution_count": null,
      "outputs": []
    },
    {
      "cell_type": "markdown",
      "source": [
        "### Número complexo"
      ],
      "metadata": {
        "id": "zJuggpl0fKSU"
      }
    },
    {
      "cell_type": "code",
      "source": [
        "z = 9+8j\n",
        "print(z)\n",
        "print(type(z))"
      ],
      "metadata": {
        "colab": {
          "base_uri": "https://localhost:8080/"
        },
        "id": "p9nrn8tcfNz7",
        "outputId": "ce4a4abf-2284-4366-9e84-5276b63ff2a2"
      },
      "execution_count": null,
      "outputs": [
        {
          "output_type": "stream",
          "name": "stdout",
          "text": [
            "(9+8j)\n",
            "<class 'complex'>\n"
          ]
        }
      ]
    },
    {
      "cell_type": "markdown",
      "source": [
        "## Sequência"
      ],
      "metadata": {
        "id": "uIfBYjTyf0vX"
      }
    },
    {
      "cell_type": "markdown",
      "source": [
        "### string: str"
      ],
      "metadata": {
        "id": "zvdO6aSnf620"
      }
    },
    {
      "cell_type": "code",
      "source": [
        "my_str = 'python'\n",
        "print(my_str)\n",
        "print(type(my_str))\n",
        "print(my_str[0])\n",
        "print(my_str[1])\n",
        "print(my_str[2])\n",
        "print(my_str[3])\n",
        "print(my_str[4])\n",
        "print(my_str[5])\n"
      ],
      "metadata": {
        "colab": {
          "base_uri": "https://localhost:8080/"
        },
        "id": "RefsOLrmf4wh",
        "outputId": "3f0f8ad0-03b0-4f87-f0b3-bbf68c3f49cd"
      },
      "execution_count": null,
      "outputs": [
        {
          "output_type": "stream",
          "name": "stdout",
          "text": [
            "python\n",
            "<class 'str'>\n",
            "p\n",
            "y\n",
            "t\n",
            "h\n",
            "o\n",
            "n\n"
          ]
        }
      ]
    },
    {
      "cell_type": "markdown",
      "source": [
        "## Lista: list"
      ],
      "metadata": {
        "id": "X2ph1_XJh86h"
      }
    },
    {
      "cell_type": "code",
      "source": [
        "my_list = ['banana', 'abacate', 'laranja', 'pera']\n",
        "print(my_list)\n",
        "print(type(my_list))\n",
        "print(my_list[0])\n",
        "print(my_list[-1]) # último\n",
        "print(my_list[-2]) # penúltimo"
      ],
      "metadata": {
        "colab": {
          "base_uri": "https://localhost:8080/"
        },
        "id": "fi-Y98k8iDDr",
        "outputId": "35327899-79a3-4ea9-9a41-0dea177819bf"
      },
      "execution_count": null,
      "outputs": [
        {
          "output_type": "stream",
          "name": "stdout",
          "text": [
            "['banana', 'abacate', 'laranja', 'pera']\n",
            "<class 'list'>\n",
            "banana\n",
            "pera\n",
            "laranja\n"
          ]
        }
      ]
    },
    {
      "cell_type": "code",
      "source": [
        "# slicing\n",
        "print(my_list[:]) #todos itens\n",
        "print(my_list[0:2]) #os dois primeiros\n",
        "print(my_list[:2]) # pega todos os valores até o 1"
      ],
      "metadata": {
        "id": "3GbT6Hdhk7bX"
      },
      "execution_count": null,
      "outputs": []
    },
    {
      "cell_type": "code",
      "source": [
        "# print(my_list[start:end:step])\n",
        "print(my_list[::2])"
      ],
      "metadata": {
        "colab": {
          "base_uri": "https://localhost:8080/"
        },
        "id": "Qo7atAHJlVtL",
        "outputId": "341c2e7f-70a2-433f-d000-5f3b5423a419"
      },
      "execution_count": null,
      "outputs": [
        {
          "output_type": "stream",
          "name": "stdout",
          "text": [
            "['banana', 'laranja']\n"
          ]
        }
      ]
    },
    {
      "cell_type": "markdown",
      "source": [
        "## *Tuplas*\n",
        "\n",
        "Tuplas não admitem modificações"
      ],
      "metadata": {
        "id": "A5KT-TE_mHvs"
      }
    },
    {
      "cell_type": "code",
      "source": [
        "my_tuple = (11,25,78,43.9)\n",
        "print(my_tuple)\n",
        "print(type(my_tuple))"
      ],
      "metadata": {
        "colab": {
          "base_uri": "https://localhost:8080/"
        },
        "id": "E1yRaxUXmKdp",
        "outputId": "0700f81a-3a93-425b-911c-cacbff5f60ca"
      },
      "execution_count": null,
      "outputs": [
        {
          "output_type": "stream",
          "name": "stdout",
          "text": [
            "(11, 25, 78, 43.9)\n",
            "<class 'tuple'>\n"
          ]
        }
      ]
    },
    {
      "cell_type": "markdown",
      "source": [
        "### Modificando a lista"
      ],
      "metadata": {
        "id": "eS9kdodEoGW2"
      }
    },
    {
      "cell_type": "code",
      "source": [
        "print(my_list)\n",
        "my_list[0] = 'uva'\n",
        "print(my_list)"
      ],
      "metadata": {
        "colab": {
          "base_uri": "https://localhost:8080/"
        },
        "id": "Hi3GcpZZoKEV",
        "outputId": "f7d1078b-1a8a-4de9-a6bd-599acc612134"
      },
      "execution_count": null,
      "outputs": [
        {
          "output_type": "stream",
          "name": "stdout",
          "text": [
            "['banana', 'abacate', 'laranja', 'pera']\n",
            "['uva', 'abacate', 'laranja', 'pera']\n"
          ]
        }
      ]
    },
    {
      "cell_type": "markdown",
      "source": [
        "## Conjunto: Set\n",
        "\n",
        "Os elementos não são dados em sequência"
      ],
      "metadata": {
        "id": "_Bo-xy3zu_FL"
      }
    },
    {
      "cell_type": "code",
      "source": [
        "my_set = {100, 40,'uva'}\n",
        "print(my_set)\n",
        "print(type(my_set))"
      ],
      "metadata": {
        "colab": {
          "base_uri": "https://localhost:8080/"
        },
        "id": "L1DauCazvGyp",
        "outputId": "4b8cd09e-0d7e-4458-bcba-5ceb0b45f853"
      },
      "execution_count": 5,
      "outputs": [
        {
          "output_type": "stream",
          "name": "stdout",
          "text": [
            "{40, 'uva', 100}\n",
            "<class 'set'>\n"
          ]
        }
      ]
    },
    {
      "cell_type": "code",
      "source": [
        "my_set[0] #TypeError"
      ],
      "metadata": {
        "colab": {
          "base_uri": "https://localhost:8080/",
          "height": 175
        },
        "id": "gY5kJq2q6gRC",
        "outputId": "6e7fbfe6-d373-4369-8b8c-ac276cda8223"
      },
      "execution_count": 6,
      "outputs": [
        {
          "output_type": "error",
          "ename": "TypeError",
          "evalue": "ignored",
          "traceback": [
            "\u001b[0;31m---------------------------------------------------------------------------\u001b[0m",
            "\u001b[0;31mTypeError\u001b[0m                                 Traceback (most recent call last)",
            "\u001b[0;32m<ipython-input-6-af16cadb6dd8>\u001b[0m in \u001b[0;36m<cell line: 1>\u001b[0;34m()\u001b[0m\n\u001b[0;32m----> 1\u001b[0;31m \u001b[0mmy_set\u001b[0m\u001b[0;34m[\u001b[0m\u001b[0;36m0\u001b[0m\u001b[0;34m]\u001b[0m \u001b[0;31m#TypeError\u001b[0m\u001b[0;34m\u001b[0m\u001b[0;34m\u001b[0m\u001b[0m\n\u001b[0m",
            "\u001b[0;31mTypeError\u001b[0m: 'set' object is not subscriptable"
          ]
        }
      ]
    },
    {
      "cell_type": "code",
      "source": [
        "my_dict = {'nome':'maria','idade':23,'fone':41999}\n",
        "print(my_dict)\n",
        "print(type(my_dict))"
      ],
      "metadata": {
        "colab": {
          "base_uri": "https://localhost:8080/"
        },
        "id": "PXPAra8i618r",
        "outputId": "fff2ecbb-41a6-4c54-d9ef-9a1e4c309078"
      },
      "execution_count": 10,
      "outputs": [
        {
          "output_type": "stream",
          "name": "stdout",
          "text": [
            "{'nome': 'maria', 'idade': 23, 'fone': 41999}\n",
            "<class 'dict'>\n"
          ]
        }
      ]
    },
    {
      "cell_type": "code",
      "source": [
        "tabela = {'tempo':[0,1,2],'posicao':[1.3,5.8,10.0]}\n",
        "print(tabela)\n",
        "print(tabela['tempo'])"
      ],
      "metadata": {
        "colab": {
          "base_uri": "https://localhost:8080/"
        },
        "id": "6mByRn417nGs",
        "outputId": "a5aada16-d751-4459-deaf-393334ae6cd3"
      },
      "execution_count": 13,
      "outputs": [
        {
          "output_type": "stream",
          "name": "stdout",
          "text": [
            "{'tempo': [0, 1, 2], 'posicao': [1.3, 5.8, 10.0]}\n",
            "[0, 1, 2]\n"
          ]
        }
      ]
    },
    {
      "cell_type": "markdown",
      "source": [
        "## Booleano: Bool"
      ],
      "metadata": {
        "id": "2lWfziY_8bnq"
      }
    },
    {
      "cell_type": "code",
      "source": [
        "var = True\n",
        "print(var)\n",
        "print(type(var))"
      ],
      "metadata": {
        "colab": {
          "base_uri": "https://localhost:8080/"
        },
        "id": "3vYCqMs98rV8",
        "outputId": "7db5a6c0-b541-45ab-d55f-6e1340a6abdb"
      },
      "execution_count": 14,
      "outputs": [
        {
          "output_type": "stream",
          "name": "stdout",
          "text": [
            "True\n",
            "<class 'bool'>\n"
          ]
        }
      ]
    },
    {
      "cell_type": "code",
      "source": [
        "E = 5 > 4\n",
        "F = 5 < 4\n",
        "print(E)\n",
        "print(F)"
      ],
      "metadata": {
        "colab": {
          "base_uri": "https://localhost:8080/"
        },
        "id": "MC0p_laA8x8X",
        "outputId": "0d027cde-983c-4259-b3c9-101af187f249"
      },
      "execution_count": 17,
      "outputs": [
        {
          "output_type": "stream",
          "name": "stdout",
          "text": [
            "True\n",
            "False\n"
          ]
        }
      ]
    }
  ]
}