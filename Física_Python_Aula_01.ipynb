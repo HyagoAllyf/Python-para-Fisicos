{
  "nbformat": 4,
  "nbformat_minor": 0,
  "metadata": {
    "colab": {
      "provenance": [],
      "authorship_tag": "ABX9TyMOy/mpvMf7dGulnDX1SoLS",
      "include_colab_link": true
    },
    "kernelspec": {
      "name": "python3",
      "display_name": "Python 3"
    },
    "language_info": {
      "name": "python"
    }
  },
  "cells": [
    {
      "cell_type": "markdown",
      "metadata": {
        "id": "view-in-github",
        "colab_type": "text"
      },
      "source": [
        "<a href=\"https://colab.research.google.com/github/HyagoAllyf/Python-para-F-sicos/blob/main/F%C3%ADsica_Python_Aula_01.ipynb\" target=\"_parent\"><img src=\"https://colab.research.google.com/assets/colab-badge.svg\" alt=\"Open In Colab\"/></a>"
      ]
    },
    {
      "cell_type": "markdown",
      "source": [
        "# A versão em uso de Python"
      ],
      "metadata": {
        "id": "huvxkI-UUFvk"
      }
    },
    {
      "cell_type": "code",
      "execution_count": null,
      "metadata": {
        "colab": {
          "base_uri": "https://localhost:8080/"
        },
        "id": "e7R0L_JvT_6O",
        "outputId": "9e5c62f5-db57-4cb8-879a-cdf0aa0f091e"
      },
      "outputs": [
        {
          "output_type": "stream",
          "name": "stdout",
          "text": [
            "Python 3.7.12\n"
          ]
        }
      ],
      "source": [
        "!python --version"
      ]
    },
    {
      "cell_type": "markdown",
      "source": [
        "# Tipos de Dados"
      ],
      "metadata": {
        "id": "mBp3vf51UYiN"
      }
    },
    {
      "cell_type": "markdown",
      "source": [
        "##Númerico"
      ],
      "metadata": {
        "id": "Qqdyom0KUpyn"
      }
    },
    {
      "cell_type": "markdown",
      "source": [
        "###inteira: int"
      ],
      "metadata": {
        "id": "aUm7F6qVUw6t"
      }
    },
    {
      "cell_type": "code",
      "source": [
        "x = 10\n",
        "print(\"x =\", x) # maneira antiga\n",
        "print(type(x))"
      ],
      "metadata": {
        "colab": {
          "base_uri": "https://localhost:8080/"
        },
        "id": "1kkYj4oAUcK6",
        "outputId": "3d347545-64b0-4d9e-9e84-7722b826b4a3"
      },
      "execution_count": null,
      "outputs": [
        {
          "output_type": "stream",
          "name": "stdout",
          "text": [
            "x = 10\n",
            "<class 'int'>\n"
          ]
        }
      ]
    },
    {
      "cell_type": "code",
      "source": [
        "y = int(20)\n",
        "print(y)\n",
        "print(type(y))"
      ],
      "metadata": {
        "colab": {
          "base_uri": "https://localhost:8080/"
        },
        "id": "_1a6w2HdXB55",
        "outputId": "ce48d26d-3a6b-43da-9622-2520d09654ad"
      },
      "execution_count": null,
      "outputs": [
        {
          "output_type": "stream",
          "name": "stdout",
          "text": [
            "20\n",
            "<class 'int'>\n"
          ]
        }
      ]
    },
    {
      "cell_type": "markdown",
      "source": [
        "### Decimal: float"
      ],
      "metadata": {
        "id": "81FYYpq7Xk5X"
      }
    },
    {
      "cell_type": "code",
      "source": [
        "# Exemplo:\n",
        "# m é a massa da partícula\n",
        "m = 80.30 # [m] = kg\n",
        "print(m)\n",
        "print(type(m))"
      ],
      "metadata": {
        "colab": {
          "base_uri": "https://localhost:8080/"
        },
        "id": "C7uO14YUXsnV",
        "outputId": "8497f0af-2607-4eb9-ef5c-9fd8367fb78e"
      },
      "execution_count": null,
      "outputs": [
        {
          "output_type": "stream",
          "name": "stdout",
          "text": [
            "80.3\n",
            "<class 'float'>\n"
          ]
        }
      ]
    },
    {
      "cell_type": "code",
      "source": [
        "#  massa da terra _ notação científica\n",
        "massa_t = 5.972e12"
      ],
      "metadata": {
        "id": "MHUziRbxc_3b"
      },
      "execution_count": null,
      "outputs": []
    },
    {
      "cell_type": "markdown",
      "source": [
        "### Número complexo"
      ],
      "metadata": {
        "id": "zJuggpl0fKSU"
      }
    },
    {
      "cell_type": "code",
      "source": [
        "z = 9+8j\n",
        "print(z)\n",
        "print(type(z))"
      ],
      "metadata": {
        "colab": {
          "base_uri": "https://localhost:8080/"
        },
        "id": "p9nrn8tcfNz7",
        "outputId": "ce4a4abf-2284-4366-9e84-5276b63ff2a2"
      },
      "execution_count": null,
      "outputs": [
        {
          "output_type": "stream",
          "name": "stdout",
          "text": [
            "(9+8j)\n",
            "<class 'complex'>\n"
          ]
        }
      ]
    },
    {
      "cell_type": "markdown",
      "source": [
        "## Sequência"
      ],
      "metadata": {
        "id": "uIfBYjTyf0vX"
      }
    },
    {
      "cell_type": "markdown",
      "source": [
        "### string: str"
      ],
      "metadata": {
        "id": "zvdO6aSnf620"
      }
    },
    {
      "cell_type": "code",
      "source": [
        "my_str = 'python'\n",
        "print(my_str)\n",
        "print(type(my_str))\n",
        "print(my_str[0])\n",
        "print(my_str[1])\n",
        "print(my_str[2])\n",
        "print(my_str[3])\n",
        "print(my_str[4])\n",
        "print(my_str[5])\n"
      ],
      "metadata": {
        "colab": {
          "base_uri": "https://localhost:8080/"
        },
        "id": "RefsOLrmf4wh",
        "outputId": "3f0f8ad0-03b0-4f87-f0b3-bbf68c3f49cd"
      },
      "execution_count": null,
      "outputs": [
        {
          "output_type": "stream",
          "name": "stdout",
          "text": [
            "python\n",
            "<class 'str'>\n",
            "p\n",
            "y\n",
            "t\n",
            "h\n",
            "o\n",
            "n\n"
          ]
        }
      ]
    },
    {
      "cell_type": "markdown",
      "source": [
        "## Lista: list"
      ],
      "metadata": {
        "id": "X2ph1_XJh86h"
      }
    },
    {
      "cell_type": "code",
      "source": [
        "my_list = ['banana', 'abacate', 'laranja', 'pera']\n",
        "print(my_list)\n",
        "print(type(my_list))\n",
        "print(my_list[0])\n",
        "print(my_list[-1]) # último\n",
        "print(my_list[-2]) # penúltimo"
      ],
      "metadata": {
        "colab": {
          "base_uri": "https://localhost:8080/"
        },
        "id": "fi-Y98k8iDDr",
        "outputId": "35327899-79a3-4ea9-9a41-0dea177819bf"
      },
      "execution_count": null,
      "outputs": [
        {
          "output_type": "stream",
          "name": "stdout",
          "text": [
            "['banana', 'abacate', 'laranja', 'pera']\n",
            "<class 'list'>\n",
            "banana\n",
            "pera\n",
            "laranja\n"
          ]
        }
      ]
    },
    {
      "cell_type": "code",
      "source": [
        "# slicing\n",
        "print(my_list[:]) #todos itens\n",
        "print(my_list[0:2]) #os dois primeiros\n",
        "print(my_list[:2]) # pega todos os valores até o 1"
      ],
      "metadata": {
        "id": "3GbT6Hdhk7bX"
      },
      "execution_count": null,
      "outputs": []
    },
    {
      "cell_type": "code",
      "source": [
        "# print(my_list[start:end:step])\n",
        "print(my_list[::2])"
      ],
      "metadata": {
        "colab": {
          "base_uri": "https://localhost:8080/"
        },
        "id": "Qo7atAHJlVtL",
        "outputId": "341c2e7f-70a2-433f-d000-5f3b5423a419"
      },
      "execution_count": null,
      "outputs": [
        {
          "output_type": "stream",
          "name": "stdout",
          "text": [
            "['banana', 'laranja']\n"
          ]
        }
      ]
    },
    {
      "cell_type": "markdown",
      "source": [
        "## *Tuplas*\n",
        "\n",
        "Tuplas não admitem modificações"
      ],
      "metadata": {
        "id": "A5KT-TE_mHvs"
      }
    },
    {
      "cell_type": "code",
      "source": [
        "my_tuple = (11,25,78,43.9)\n",
        "print(my_tuple)\n",
        "print(type(my_tuple))"
      ],
      "metadata": {
        "colab": {
          "base_uri": "https://localhost:8080/"
        },
        "id": "E1yRaxUXmKdp",
        "outputId": "0700f81a-3a93-425b-911c-cacbff5f60ca"
      },
      "execution_count": null,
      "outputs": [
        {
          "output_type": "stream",
          "name": "stdout",
          "text": [
            "(11, 25, 78, 43.9)\n",
            "<class 'tuple'>\n"
          ]
        }
      ]
    },
    {
      "cell_type": "markdown",
      "source": [
        "### Modificando a lista"
      ],
      "metadata": {
        "id": "eS9kdodEoGW2"
      }
    },
    {
      "cell_type": "code",
      "source": [
        "print(my_list)\n",
        "my_list[0] = 'uva'\n",
        "print(my_list)"
      ],
      "metadata": {
        "colab": {
          "base_uri": "https://localhost:8080/"
        },
        "id": "Hi3GcpZZoKEV",
        "outputId": "f7d1078b-1a8a-4de9-a6bd-599acc612134"
      },
      "execution_count": null,
      "outputs": [
        {
          "output_type": "stream",
          "name": "stdout",
          "text": [
            "['banana', 'abacate', 'laranja', 'pera']\n",
            "['uva', 'abacate', 'laranja', 'pera']\n"
          ]
        }
      ]
    },
    {
      "cell_type": "markdown",
      "source": [
        "## Conjunto: Set\n",
        "\n",
        "Os elementos não são dados em sequência"
      ],
      "metadata": {
        "id": "_Bo-xy3zu_FL"
      }
    },
    {
      "cell_type": "code",
      "source": [
        "my_set = {100, 40,'uva'}\n",
        "print(my_set)\n",
        "print(type(my_set))"
      ],
      "metadata": {
        "colab": {
          "base_uri": "https://localhost:8080/"
        },
        "id": "L1DauCazvGyp",
        "outputId": "df606a61-f55c-4e1e-8456-3c42fed0976e"
      },
      "execution_count": null,
      "outputs": [
        {
          "output_type": "stream",
          "name": "stdout",
          "text": [
            "{40, 'uva', 100}\n",
            "<class 'set'>\n"
          ]
        }
      ]
    }
  ]
}